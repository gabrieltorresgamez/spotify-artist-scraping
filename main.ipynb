{
 "cells": [
  {
   "cell_type": "markdown",
   "metadata": {},
   "source": [
    "## IMPORTS & SETTINGS\n",
    "Here everything is configured and the necessary libraries are imported."
   ]
  },
  {
   "cell_type": "code",
   "execution_count": null,
   "metadata": {},
   "outputs": [],
   "source": [
    "import yaml\n",
    "import tqdm\n",
    "import spotipy\n",
    "import skimage\n",
    "import matplotlib\n",
    "import matplotlib.pyplot as plt\n",
    "import pandas as pd\n",
    "\n",
    "from tqdm.notebook import tqdm as t_\n",
    "from skimage import io\n",
    "from spotipy.oauth2 import SpotifyClientCredentials\n",
    "\n",
    "# PACKAGE VERSIONS\n",
    "print(f\"TQDM version: {tqdm.__version__}\")\n",
    "# print(f\"Spotify version: {spotipy.__version__}\") # Doesnt exist???\n",
    "print(f\"Skimage version: {skimage.__version__}\")\n",
    "print(f\"Matplotlib version: {matplotlib.__version__}\")\n",
    "print(f\"Pandas version: {pd.__version__}\")\n",
    "\n",
    "# GET CONFIG\n",
    "config_file = \"settings.yml\"\n",
    "with open(config_file, \"r\") as ymlfile:\n",
    "    cfg = yaml.safe_load(ymlfile)"
   ]
  },
  {
   "cell_type": "code",
   "execution_count": null,
   "metadata": {},
   "outputs": [],
   "source": [
    "# SPOTIFY AUTH\n",
    "spotify_creds = cfg[\"spotify_creds\"]\n",
    "sp = spotipy.Spotify(\n",
    "    auth_manager=SpotifyClientCredentials(\n",
    "        client_id=spotify_creds[\"client_id\"],\n",
    "        client_secret=spotify_creds[\"client_secret\"],\n",
    "    )\n",
    ")"
   ]
  },
  {
   "cell_type": "markdown",
   "metadata": {},
   "source": [
    "## HELPER FUNCTIONS\n",
    "These functions are used to make the code more readable and to avoid repetition."
   ]
  },
  {
   "cell_type": "code",
   "execution_count": null,
   "metadata": {},
   "outputs": [],
   "source": [
    "def search_artist(artist_name, sp):\n",
    "    # GET START ARTIST\n",
    "    results = sp.search(q=f\"artist:{artist_name}\", type=\"artist\")[\"artists\"]\n",
    "\n",
    "    if len(results[\"items\"]) == 0:\n",
    "        raise ValueError(f\"No artist found with name: {artist_name}\")\n",
    "\n",
    "    if len(results[\"items\"]) > 1:\n",
    "        print(f\"Multiple artists found, picking the most popular one:\\n\")\n",
    "\n",
    "    artist = results[\"items\"][0]\n",
    "    print(f\"Artist ID: {artist['id']}\")\n",
    "\n",
    "    plt.figure(figsize=(4, 4))\n",
    "    plt.title(f\"Artist: {artist['name']}\")\n",
    "    plt.imshow(io.imread(artist[\"images\"][0][\"url\"]))\n",
    "    plt.axis(\"off\")\n",
    "    plt.show()\n",
    "\n",
    "    return artist"
   ]
  },
  {
   "cell_type": "code",
   "execution_count": null,
   "metadata": {},
   "outputs": [],
   "source": [
    "def scrape_artist(id_, sp):\n",
    "    # FIND ALL POSSIBLE RELEASES\n",
    "    releases = []\n",
    "    n_singles = 0\n",
    "    while True:\n",
    "        response = sp.artist_albums(id_, limit=50, offset=n_singles)\n",
    "        releases.extend(response[\"items\"])\n",
    "        if not response[\"next\"]:\n",
    "            break\n",
    "        n_singles += 50\n",
    "\n",
    "    # FILTER OUT RELEASES ON ARTIST ID\n",
    "    clean_releases = []\n",
    "    for release in releases:\n",
    "        for artist in release[\"artists\"]:\n",
    "            if artist[\"id\"] == id_:\n",
    "                clean_releases.append(release)\n",
    "                break\n",
    "\n",
    "    # GET ALL TRACKS FROM ALL RELEASES\n",
    "    tracks = []\n",
    "    n_tracks = 0\n",
    "    for release in clean_releases:\n",
    "        while True:\n",
    "            response = sp.album_tracks(release[\"id\"], limit=50, offset=n_tracks)\n",
    "            tracks.extend(response[\"items\"])\n",
    "            if not response[\"next\"]:\n",
    "                break\n",
    "            n_tracks += 50\n",
    "\n",
    "    # EARLY RETURN IF NO TRACKS\n",
    "    if len(tracks) == 0:\n",
    "        return pd.DataFrame(), pd.DataFrame(), pd.DataFrame()\n",
    "\n",
    "    # REMOVE DUPLICATES\n",
    "    unique_tracks = []\n",
    "    for track in tracks:\n",
    "        if track[\"name\"] not in [t[\"name\"] for t in unique_tracks]:\n",
    "            unique_tracks.append(track)\n",
    "    tracks = unique_tracks\n",
    "\n",
    "    # GET ALL ARTISTS IN ALL TRACKS\n",
    "    artist_track = pd.DataFrame(\n",
    "        [{\"track_id\": track[\"id\"], \"artist_id\": artist[\"id\"]} for track in tracks for artist in track[\"artists\"]]\n",
    "    )\n",
    "\n",
    "    # GET ALL ARTIST NAMES\n",
    "    artists = pd.DataFrame(\n",
    "        [{\"id\": artist[\"id\"], \"name\": artist[\"name\"]} for track in tracks for artist in track[\"artists\"]]\n",
    "    )\n",
    "    artists = artists.drop_duplicates().reset_index(drop=True)\n",
    "\n",
    "    artists_info = pd.DataFrame(sp.artists(artists[\"id\"].tolist())[\"artists\"])\n",
    "    artists_info = artists_info.loc[\n",
    "        :,\n",
    "        [\n",
    "            \"id\",\n",
    "            \"followers\",\n",
    "            \"genres\",\n",
    "            \"popularity\",\n",
    "        ],\n",
    "    ]\n",
    "    artists_info[\"followers\"] = artists_info[\"followers\"].apply(lambda x: x[\"total\"])\n",
    "    \n",
    "    artists = pd.merge(artists, artists_info, how=\"outer\", on=\"id\")\n",
    "\n",
    "    # GET INFO ON ALL THE TRACKS\n",
    "    tracks = pd.DataFrame(tracks)\n",
    "    tracks = tracks.loc[:, [\"id\", \"name\"]]\n",
    "\n",
    "    tracks_info = pd.DataFrame(sp.audio_features(tracks[\"id\"].tolist()))\n",
    "    tracks_info = tracks_info.loc[\n",
    "        :,\n",
    "        [\n",
    "            \"id\",\n",
    "            \"danceability\",\n",
    "            \"energy\",\n",
    "            \"key\",\n",
    "            \"loudness\",\n",
    "            \"mode\",\n",
    "            \"speechiness\",\n",
    "            \"acousticness\",\n",
    "            \"instrumentalness\",\n",
    "            \"liveness\",\n",
    "            \"valence\",\n",
    "            \"tempo\",\n",
    "            \"duration_ms\",\n",
    "            \"time_signature\",\n",
    "        ],\n",
    "    ]\n",
    "\n",
    "    tracks = pd.merge(tracks, tracks_info, on=\"id\")\n",
    "\n",
    "    return artist_track, artists, tracks"
   ]
  },
  {
   "cell_type": "markdown",
   "metadata": {},
   "source": [
    "## FUN\n",
    "Here we do all the work. "
   ]
  },
  {
   "cell_type": "code",
   "execution_count": null,
   "metadata": {},
   "outputs": [],
   "source": [
    "# PARAMS\n",
    "start_artist_name = \"Tristam\"\n",
    "connection_depth = 1"
   ]
  },
  {
   "cell_type": "code",
   "execution_count": null,
   "metadata": {},
   "outputs": [],
   "source": [
    "start_artist = search_artist(start_artist_name, sp)"
   ]
  },
  {
   "cell_type": "code",
   "execution_count": null,
   "metadata": {},
   "outputs": [],
   "source": [
    "# SCRAPED DATA FROM INITIAL ARTIST\n",
    "artist_track, artists, tracks = scrape_artist(start_artist[\"id\"], sp)\n",
    "display(artist_track.head())\n",
    "display(artists.head())\n",
    "display(tracks.head())"
   ]
  },
  {
   "cell_type": "code",
   "execution_count": null,
   "metadata": {},
   "outputs": [],
   "source": [
    "searched_artists = [start_artist[\"id\"]]\n",
    "artists_to_search = artists[\"id\"].tolist()"
   ]
  },
  {
   "cell_type": "code",
   "execution_count": null,
   "metadata": {},
   "outputs": [],
   "source": [
    "for i in range(0, connection_depth):\n",
    "    print(f\"Scraping artists at depth: {i+1}\")\n",
    "    new_artists = []\n",
    "    depth_artists_to_search = set(artists_to_search) - set(searched_artists)\n",
    "\n",
    "    for artist_id in t_(depth_artists_to_search):\n",
    "        temp_artist_track, temp_artists, temp_tracks = scrape_artist(artist_id, sp)\n",
    "\n",
    "        if len(temp_tracks) == 0:\n",
    "            continue\n",
    "\n",
    "        artist_track = pd.concat([artist_track, temp_artist_track])\n",
    "        artists = pd.concat([artists, temp_artists])\n",
    "        tracks = pd.concat([tracks, temp_tracks])\n",
    "\n",
    "        new_artists.extend(temp_artists[\"id\"].tolist())\n",
    "\n",
    "    searched_artists.extend(depth_artists_to_search)\n",
    "    print(f\"Artists searched: {len(searched_artists)}\")\n",
    "    searched_artists = set(searched_artists)\n",
    "    artists_to_search = set(new_artists) - searched_artists"
   ]
  }
 ],
 "metadata": {
  "kernelspec": {
   "display_name": "Python 3",
   "language": "python",
   "name": "python3"
  },
  "language_info": {
   "codemirror_mode": {
    "name": "ipython",
    "version": 3
   },
   "file_extension": ".py",
   "mimetype": "text/x-python",
   "name": "python",
   "nbconvert_exporter": "python",
   "pygments_lexer": "ipython3",
   "version": "3.10.13"
  }
 },
 "nbformat": 4,
 "nbformat_minor": 2
}
